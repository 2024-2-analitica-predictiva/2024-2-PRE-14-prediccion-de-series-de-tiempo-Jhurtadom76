{
 "cells": [
  {
   "cell_type": "code",
   "execution_count": 1,
   "metadata": {},
   "outputs": [],
   "source": [
    "# Carga de datos\n",
    "#\n",
    "import nbimporter  #  type: ignore\n",
    "import functions  #  type: ignore\n",
    "df_orig = functions.load_data()\n",
    "df_orig.head()\n",
    "def remove_trend_and_cycle(df, yt_true_name=\"yt_true\"):\n",
    "    df[yt_true_name + \"_d1d12\"] = df[yt_true_name].diff(1).diff(12)\n",
    "    return df"
   ]
  },
  {
   "cell_type": "code",
   "execution_count": null,
   "metadata": {},
   "outputs": [],
   "source": [
    "# Componentes de tendencia lineal\n",
    "#\n",
    "df_orig = functions.add_linear_trend_component(df_orig)\n",
    "df_orig = functions.add_month_component(df_orig)\n",
    "df_orig.head()\n"
   ]
  },
  {
   "cell_type": "code",
   "execution_count": null,
   "metadata": {},
   "outputs": [],
   "source": [
    "# Fourier\n",
    "#\n",
    "df_orig = functions.add_sin_cos_components(df_orig)\n",
    "df_orig.head(15)"
   ]
  },
  {
   "cell_type": "code",
   "execution_count": 4,
   "metadata": {},
   "outputs": [],
   "source": [
    "# Particionamiento de los datos\n",
    "#\n",
    "(\n",
    "    X_complete,\n",
    "    y_complete,\n",
    "    X_train,\n",
    "    y_train,\n",
    "    X_test,\n",
    "    y_test,\n",
    ") = functions.train_test_split(\n",
    "    df=df_orig,\n",
    "    x_columns=[\n",
    "        \"trend\",\n",
    "        \"sin_12m\",\n",
    "        \"cos_12m\",\n",
    "        \"sin_6m\",\n",
    "        \"cos_6m\",\n",
    "        \"sin_4m\",\n",
    "        \"cos_4m\",\n",
    "        \"sin_3m\",\n",
    "        \"cos_3m\",\n",
    "    ],\n",
    "    y_column=\"yt_true\",\n",
    ")\n",
    "\n"
   ]
  },
  {
   "cell_type": "code",
   "execution_count": 5,
   "metadata": {},
   "outputs": [],
   "source": [
    "# Especificación del modelo\n",
    "#\n",
    "from sklearn.pipeline import Pipeline  #  type: ignore\n",
    "from sklearn.preprocessing import PolynomialFeatures, MinMaxScaler  #  type: ignore\n",
    "from sklearn.linear_model import LinearRegression  #  type: ignore\n",
    "from sklearn.compose import ColumnTransformer  #  type: ignore\n",
    "\n",
    "pipeline = Pipeline(\n",
    "    [\n",
    "        (\n",
    "            \"preprocessor\",\n",
    "            ColumnTransformer(\n",
    "                [\n",
    "                    (\n",
    "                        \"trend\",\n",
    "                        Pipeline(\n",
    "                            [\n",
    "                                (\"poly\", PolynomialFeatures(degree=3)),\n",
    "                                (\"scaler\", MinMaxScaler()),\n",
    "                            ]\n",
    "                        ),\n",
    "                        [\"trend\"],\n",
    "                    ),\n",
    "                ],\n",
    "                remainder=\"passthrough\",\n",
    "            ),\n",
    "        ),\n",
    "        (\"regressor\", LinearRegression()),\n",
    "    ]\n",
    ")"
   ]
  },
  {
   "cell_type": "code",
   "execution_count": null,
   "metadata": {},
   "outputs": [],
   "source": [
    "# Entrenamiento y pronostico\n",
    "#\n",
    "pipeline.fit(X_train, y_train)\n",
    "df_orig[\"yt_pred_time_trend_3_fourier\"] = pipeline.predict(X_complete)\n",
    "functions.plot_time_series(df_orig)\n"
   ]
  },
  {
   "cell_type": "code",
   "execution_count": 7,
   "metadata": {},
   "outputs": [],
   "source": [
    "# Almacenamiento de los resultados\n",
    "#\n",
    "functions.save_forecasts(df_orig)\n"
   ]
  },
  {
   "cell_type": "code",
   "execution_count": null,
   "metadata": {},
   "outputs": [],
   "source": [
    "# Métricas de error\n",
    "#\n",
    "metrics = functions.compute_evaluation_metrics(df_orig)\n",
    "functions.save_metrics(metrics)\n",
    "metrics\n"
   ]
  }
 ],
 "metadata": {
  "kernelspec": {
   "display_name": ".venv",
   "language": "python",
   "name": "python3"
  },
  "language_info": {
   "codemirror_mode": {
    "name": "ipython",
    "version": 3
   },
   "file_extension": ".py",
   "mimetype": "text/x-python",
   "name": "python",
   "nbconvert_exporter": "python",
   "pygments_lexer": "ipython3",
   "version": "3.13.1"
  }
 },
 "nbformat": 4,
 "nbformat_minor": 2
}
