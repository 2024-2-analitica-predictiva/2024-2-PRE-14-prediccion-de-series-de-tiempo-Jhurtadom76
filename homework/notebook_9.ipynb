{
 "cells": [
  {
   "cell_type": "code",
   "execution_count": null,
   "metadata": {},
   "outputs": [],
   "source": [
    "# Combinación de pronosticos\n",
    "import warnings\n",
    "warnings.filterwarnings(\"ignore\")"
   ]
  },
  {
   "cell_type": "code",
   "execution_count": null,
   "metadata": {},
   "outputs": [],
   "source": [
    "# Carga de datos\n",
    "import nbimporter  #  type: ignore\n",
    "import functions  #  type: ignore\n",
    "import pandas as pd  #  type: ignore"
   ]
  },
  {
   "cell_type": "code",
   "execution_count": null,
   "metadata": {},
   "outputs": [],
   "source": [
    "# Promedio de los pronosticos\n",
    "df_orig = pd.read_csv(\"../files/output/forecasts.csv\")\n",
    "df_dropna = df_orig.dropna()\n",
    "df_dropna = df_dropna.set_index(\"date\")\n",
    "df_dropna[\"yt_pred_mean\"] = df_dropna.mean(axis=1)\n",
    "functions.plot_time_series(df=df_dropna[[\"yt_true\", \"yt_pred_mean\"]], yt_col=\"yt_true\")"
   ]
  },
  {
   "cell_type": "code",
   "execution_count": null,
   "metadata": {},
   "outputs": [],
   "source": [
    "# Promedio de los pronosticos\n",
    "\n",
    "from sklearn.linear_model import LinearRegression\n",
    "model = LinearRegression()\n",
    "X = df_dropna.drop(columns=[\"yt_true\", \"yt_pred_mean\"])\n",
    "y = df_dropna[\"yt_true\"]\n",
    "model.fit(X, y)\n",
    "df_dropna[\"yt_pred_lr\"] = model.predict(X)\n",
    "functions.plot_time_series(df=df_dropna[[\"yt_true\", \"yt_pred_lr\"]], yt_col=\"yt_true\")"
   ]
  }
 ],
 "metadata": {
  "kernelspec": {
   "display_name": ".venv",
   "language": "python",
   "name": "python3"
  },
  "language_info": {
   "name": "python",
   "version": "3.13.1"
  }
 },
 "nbformat": 4,
 "nbformat_minor": 2
}
