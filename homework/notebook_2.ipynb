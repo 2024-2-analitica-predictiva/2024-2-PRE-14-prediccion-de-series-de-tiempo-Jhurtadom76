{
 "cells": [
  {
   "cell_type": "code",
   "execution_count": null,
   "metadata": {},
   "outputs": [],
   "source": [
    "# Carga de datos\n",
    "import nbimporter  #  type: ignore\n",
    "import functions  #  type: ignore\n",
    "df_orig = functions.load_data()\n",
    "df_orig.head()"
   ]
  },
  {
   "cell_type": "code",
   "execution_count": 3,
   "metadata": {},
   "outputs": [],
   "source": [
    "# Componentes de tendencia lineal\n",
    "df_orig = functions.add_linear_trend_component(df_orig)\n",
    "df_orig.head(10)\n",
    "def add_linear_trend_component(df):\n",
    "    \"\"\"Add linear trend component to the dataframe.\"\"\"\n",
    "    df = df.assign(trend=list(range(len(df))))\n",
    "    return df"
   ]
  },
  {
   "cell_type": "code",
   "execution_count": null,
   "metadata": {},
   "outputs": [],
   "source": [
    "# Componentes estacionales\n",
    "df_orig = functions.add_month_component(df_orig)\n",
    "df_orig.head(15)  "
   ]
  },
  {
   "cell_type": "code",
   "execution_count": 5,
   "metadata": {},
   "outputs": [],
   "source": [
    "# Particionamiento de los datos\n",
    "(\n",
    "    X_complete,\n",
    "    y_complete,\n",
    "    X_train,\n",
    "    y_train,\n",
    "    X_test,\n",
    "    y_test,\n",
    ") = functions.train_test_split(\n",
    "    df=df_orig,\n",
    "    x_columns=[\"trend\", \"month\"],\n",
    "    y_column=\"yt_true\",\n",
    ")"
   ]
  },
  {
   "cell_type": "code",
   "execution_count": 6,
   "metadata": {},
   "outputs": [],
   "source": [
    "# Especificación del Modelo\n",
    "from sklearn.pipeline import Pipeline  #  type: ignore\n",
    "from sklearn.preprocessing import (  #  type: ignore\n",
    "    PolynomialFeatures,\n",
    "    OneHotEncoder,\n",
    "    MinMaxScaler,\n",
    ")\n",
    "from sklearn.linear_model import LinearRegression  #  type: ignore\n",
    "from sklearn.compose import ColumnTransformer  #  type: ignore\n",
    "def create_pipeline(degree):\n",
    "    pipeline = Pipeline(\n",
    "        [\n",
    "            (\n",
    "                \"preprocessor\",\n",
    "                ColumnTransformer(\n",
    "                    [\n",
    "                        (\n",
    "                            \"trend\",\n",
    "                            Pipeline(\n",
    "                                [\n",
    "                                    (\"poly\", PolynomialFeatures(degree=degree)),\n",
    "                                    (\"scaler\", MinMaxScaler()),\n",
    "                                ]\n",
    "                            ),\n",
    "                            [\"trend\"],\n",
    "                        ),\n",
    "                        (\"seasonal\", OneHotEncoder(), [\"month\"]),\n",
    "                    ]\n",
    "                ),\n",
    "            ),\n",
    "            (\"regressor\", LinearRegression()),\n",
    "        ]\n",
    "    )"
   ]
  },
  {
   "cell_type": "code",
   "execution_count": null,
   "metadata": {},
   "outputs": [],
   "source": [
    "# Entrenamiento y pronostico\n",
    "for degree in range(1, 4):\n",
    "    pipeline = create_pipeline(degree=degree)\n",
    "    pipeline.fit(X_train, y_train)\n",
    "    df_orig[f\"yt_pred_time_trend_{degree}_dummy\"] = pipeline.predict(X_complete)\n",
    "functions.plot_time_series(df_orig)"
   ]
  },
  {
   "cell_type": "code",
   "execution_count": null,
   "metadata": {},
   "outputs": [],
   "source": [
    "# Almacenamiento de los resultados\n",
    "functions.save_forecasts(df_orig)  "
   ]
  },
  {
   "cell_type": "code",
   "execution_count": null,
   "metadata": {},
   "outputs": [],
   "source": [
    "# Métricas de error\n",
    "metrics = functions.compute_evaluation_metrics(df_orig)\n",
    "functions.save_metrics(metrics)\n",
    "metrics"
   ]
  }
 ],
 "metadata": {
  "kernelspec": {
   "display_name": ".venv",
   "language": "python",
   "name": "python3"
  },
  "language_info": {
   "codemirror_mode": {
    "name": "ipython",
    "version": 3
   },
   "file_extension": ".py",
   "mimetype": "text/x-python",
   "name": "python",
   "nbconvert_exporter": "python",
   "pygments_lexer": "ipython3",
   "version": "3.13.1"
  }
 },
 "nbformat": 4,
 "nbformat_minor": 2
}
