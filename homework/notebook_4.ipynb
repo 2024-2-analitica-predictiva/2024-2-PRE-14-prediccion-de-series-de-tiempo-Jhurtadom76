{
 "cells": [
  {
   "cell_type": "code",
   "execution_count": null,
   "metadata": {},
   "outputs": [],
   "source": [
    "# Carga de datos\n",
    "\n",
    "import nbimporter  #  type: ignore\n",
    "import functions  #  type: ignore\n",
    "df_orig = functions.load_data()\n",
    "df_orig.head()"
   ]
  },
  {
   "cell_type": "code",
   "execution_count": null,
   "metadata": {},
   "outputs": [],
   "source": [
    "# Construcción de la matriz de regresores\n",
    "df_orig = functions.make_lagged_ts(\n",
    "    df=df_orig,\n",
    "    p_max=13,\n",
    "    y_column=\"yt_true\",\n",
    "    fmt=\"lagged_{}m\",\n",
    ")\n",
    "df_orig.head()"
   ]
  },
  {
   "cell_type": "code",
   "execution_count": 3,
   "metadata": {},
   "outputs": [],
   "source": [
    "# Remoción de los valores faltantes\n",
    "df_dropna = df_orig.dropna()"
   ]
  },
  {
   "cell_type": "code",
   "execution_count": 4,
   "metadata": {},
   "outputs": [],
   "source": [
    "# División de los datos en entrenamiento y prueba\n",
    "(\n",
    "    X_complete,\n",
    "    y_complete,\n",
    "    X_train,\n",
    "    y_train,\n",
    "    X_test,\n",
    "    y_test,\n",
    ") = functions.train_test_split(\n",
    "    df=df_dropna,\n",
    "    x_columns=[f\"lagged_{i}m\" for i in range(1, 13)],\n",
    "    y_column=\"yt_true\",\n",
    ")"
   ]
  },
  {
   "cell_type": "code",
   "execution_count": 5,
   "metadata": {},
   "outputs": [],
   "source": [
    "# Pronostico usando una red neuronal tipo MLP\n",
    "from sklearn.neural_network import MLPRegressor  #  type: ignore\n",
    "def create_pipeline(hidden):\n",
    "\n",
    "    return MLPRegressor(\n",
    "        hidden_layer_sizes=(hidden,),\n",
    "        activation=\"logistic\",\n",
    "        learning_rate=\"adaptive\",\n",
    "        momentum=0.01,\n",
    "        learning_rate_init=0.2,\n",
    "        max_iter=10000,\n",
    "        random_state=123456,\n",
    "    )"
   ]
  },
  {
   "cell_type": "code",
   "execution_count": null,
   "metadata": {},
   "outputs": [],
   "source": [
    "# Entrenamiento y pronostico\n",
    "hidden = 8\n",
    "pipeline = create_pipeline(hidden=hidden)\n",
    "pipeline.fit(X_train, y_train)\n",
    "df_dropna[f\"yt_pred_mlp_{hidden}\"] = pipeline.predict(X_complete)\n",
    "df_orig.loc[df_dropna.index, f\"yt_pred_mlp_{hidden}\"] = df_dropna[\n",
    "    f\"yt_pred_mlp_{hidden}\"\n",
    "]\n",
    "\n",
    "functions.plot_time_series(df=df_orig, yt_col=\"yt_true\")"
   ]
  },
  {
   "cell_type": "code",
   "execution_count": 7,
   "metadata": {},
   "outputs": [],
   "source": [
    "# Métricas de error\n",
    "metrics = functions.compute_evaluation_metrics(df_dropna)\n",
    "metrics  "
   ]
  }
 ],
 "metadata": {
  "kernelspec": {
   "display_name": ".venv",
   "language": "python",
   "name": "python3"
  },
  "language_info": {
   "codemirror_mode": {
    "name": "ipython",
    "version": 3
   },
   "file_extension": ".py",
   "mimetype": "text/x-python",
   "name": "python",
   "nbconvert_exporter": "python",
   "pygments_lexer": "ipython3",
   "version": "3.13.1"
  }
 },
 "nbformat": 4,
 "nbformat_minor": 2
}
