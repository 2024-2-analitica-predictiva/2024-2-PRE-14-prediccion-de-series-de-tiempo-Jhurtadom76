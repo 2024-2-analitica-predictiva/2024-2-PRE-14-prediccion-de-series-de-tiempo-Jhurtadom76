{
 "cells": [
  {
   "cell_type": "code",
   "execution_count": 1,
   "metadata": {},
   "outputs": [],
   "source": [
    "# Pronostico usando un stacked MLP\n",
    "import warnings\n",
    "warnings.filterwarnings(\"ignore\")"
   ]
  },
  {
   "cell_type": "code",
   "execution_count": null,
   "metadata": {},
   "outputs": [],
   "source": [
    "# Carga de datos\n",
    "import nbimporter  #  type: ignore\n",
    "import functions  #  type: ignore\n",
    "df_orig = functions.load_data()\n",
    "df_orig.head()"
   ]
  },
  {
   "cell_type": "code",
   "execution_count": null,
   "metadata": {},
   "outputs": [],
   "source": [
    "# Construcción de la matriz de regresores\n",
    "df_orig = functions.make_lagged_ts(\n",
    "    df=df_orig,\n",
    "    p_max=13,\n",
    "    y_column=\"yt_true\",\n",
    "    fmt=\"lagged_{}m\",\n",
    ")\n",
    "df_orig.head()"
   ]
  },
  {
   "cell_type": "code",
   "execution_count": null,
   "metadata": {},
   "outputs": [],
   "source": [
    "# Remoción de los valores faltantes\n",
    "df_dropna = df_orig.dropna()\n",
    "df_dropna.head()"
   ]
  },
  {
   "cell_type": "code",
   "execution_count": null,
   "metadata": {},
   "outputs": [],
   "source": [
    "# División de los datos en entrenamiento y prueba\n",
    "(\n",
    "    X_complete,\n",
    "    y_complete,\n",
    "    X_train,\n",
    "    y_train,\n",
    "    X_test,\n",
    "    y_test,\n",
    ") = functions.train_test_split(\n",
    "    df=df_dropna,\n",
    "    x_columns=[f\"lagged_{i}m\" for i in range(1, 13)],\n",
    "    y_column=\"yt_true\",\n",
    ")\n",
    "X_complete.head()"
   ]
  },
  {
   "cell_type": "code",
   "execution_count": 6,
   "metadata": {},
   "outputs": [],
   "source": [
    "# Pronostico usando una red neuronal tipo MLP\n",
    "from sklearn.pipeline import Pipeline  #  type: ignore\n",
    "from sklearn.preprocessing import MinMaxScaler  #  type: ignore\n",
    "from sklearn.compose import TransformedTargetRegressor  #  type: ignore\n",
    "from sklearn.neural_network import MLPRegressor  #  type: ignore"
   ]
  },
  {
   "cell_type": "code",
   "execution_count": 7,
   "metadata": {},
   "outputs": [],
   "source": [
    "# Crea un pipeline para automatizar la creacion de un modelo\n",
    "def make_pipeline_from_model(model):\n",
    "    \"\"\"Create a pipeline.\"\"\"\n",
    "    return Pipeline(\n",
    "        [\n",
    "            (\n",
    "                \"scaler\",\n",
    "                MinMaxScaler(),\n",
    "            ),\n",
    "            (\n",
    "                \"regressor\",\n",
    "                TransformedTargetRegressor(\n",
    "                    regressor=model,\n",
    "                    transformer=MinMaxScaler(),\n",
    "                ),\n",
    "            ),\n",
    "        ]\n",
    "    )"
   ]
  },
  {
   "cell_type": "code",
   "execution_count": null,
   "metadata": {},
   "outputs": [],
   "source": [
    "# Entrenamiento y pronostico del Modelo 0\n",
    "hidden = 8\n",
    "pipeline_0 = make_pipeline_from_model(\n",
    "    model=MLPRegressor(\n",
    "        hidden_layer_sizes=(hidden,),\n",
    "        activation=\"logistic\",\n",
    "        learning_rate=\"adaptive\",\n",
    "        momentum=0.01,\n",
    "        learning_rate_init=0.2,\n",
    "        max_iter=10000,\n",
    "        random_state=123456,\n",
    "    )\n",
    ")\n",
    "pipeline_0.fit(X_train, y_train)\n",
    "X_train_stacked = X_train.copy()\n",
    "X_train_stacked[\"forecast_pipeline_0\"] = pipeline_0.predict(X_train)\n",
    "X_complete_stacked = X_complete.copy()\n",
    "X_complete_stacked[\"forecast_pipeline_0\"] = pipeline_0.predict(X_complete)\n",
    "X_complete_stacked"
   ]
  },
  {
   "cell_type": "code",
   "execution_count": null,
   "metadata": {},
   "outputs": [],
   "source": [
    "# Entrenamiento y pronostico del Modelo 1\n",
    "hidden = 8\n",
    "pipeline_1 = make_pipeline_from_model(\n",
    "    model=MLPRegressor(\n",
    "        hidden_layer_sizes=(hidden,),\n",
    "        activation=\"logistic\",\n",
    "        learning_rate=\"adaptive\",\n",
    "        momentum=0.01,\n",
    "        learning_rate_init=0.2,\n",
    "        max_iter=10000,\n",
    "        random_state=12345,\n",
    "    )\n",
    ")\n",
    "pipeline_1.fit(X_train_stacked, y_train)\n",
    "df_dropna[f\"yt_pred_stacked_mlp\"] = pipeline_1.predict(X_complete_stacked)\n",
    "df_dropna"
   ]
  },
  {
   "cell_type": "code",
   "execution_count": null,
   "metadata": {},
   "outputs": [],
   "source": [
    "# Gráfica de los pronósticos\n",
    "df_orig.loc[df_dropna.index, f\"yt_pred_stacked_mlp\"] = df_dropna[f\"yt_pred_stacked_mlp\"]\n",
    "functions.plot_time_series(df=df_orig, yt_col=\"yt_true\")"
   ]
  },
  {
   "cell_type": "code",
   "execution_count": 11,
   "metadata": {},
   "outputs": [],
   "source": [
    "# Almacenamiento de los resultados\n",
    "functions.save_forecasts(df_orig)"
   ]
  },
  {
   "cell_type": "code",
   "execution_count": null,
   "metadata": {},
   "outputs": [],
   "source": [
    "# Métricas de error\n",
    "metrics = functions.compute_evaluation_metrics(df_orig.dropna())\n",
    "functions.save_metrics(metrics)\n",
    "metrics\n"
   ]
  }
 ],
 "metadata": {
  "kernelspec": {
   "display_name": ".venv",
   "language": "python",
   "name": "python3"
  },
  "language_info": {
   "codemirror_mode": {
    "name": "ipython",
    "version": 3
   },
   "file_extension": ".py",
   "mimetype": "text/x-python",
   "name": "python",
   "nbconvert_exporter": "python",
   "pygments_lexer": "ipython3",
   "version": "3.13.1"
  }
 },
 "nbformat": 4,
 "nbformat_minor": 2
}
