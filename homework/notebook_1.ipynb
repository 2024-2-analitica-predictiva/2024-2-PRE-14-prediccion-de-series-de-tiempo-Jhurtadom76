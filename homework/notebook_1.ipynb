{
 "cells": [
  {
   "cell_type": "code",
   "execution_count": null,
   "metadata": {},
   "outputs": [],
   "source": [
    "# =============================================================================\n",
    "#\n",
    "# Analisis básico\n",
    "#\n",
    "# =============================================================================\n",
    "# Carga de datos\n",
    "#\n",
    "import nbimporter  #  type: ignore\n",
    "import functions  #  type: ignore\n",
    "\n",
    "\n",
    "df_orig = functions.load_data()\n",
    "display(df_orig.head())\n",
    "display(df_orig.shape)"
   ]
  },
  {
   "cell_type": "code",
   "execution_count": null,
   "metadata": {},
   "outputs": [],
   "source": [
    "#\n",
    "# Grafico de la serie\n",
    "# La serie correspondiente al número total de personas empleadas\n",
    "# mensualmente como mano de obra en el condado de Sutter\n",
    "# (California) entre 1946:01 y 1966:12. Se deben usar los primeros\n",
    "# 228 (de 1946:1 a 1964:12) datos para especificar el modelo y los\n",
    "# 24 datos restantes (1965:1 a 1966:12) para evaluar el pronóstico\n",
    "# un mes adelante por fuera de la muestra de calibración de\n",
    "# los parámetros.\n",
    "#\n",
    "functions.plot_time_series(df_orig)"
   ]
  },
  {
   "cell_type": "code",
   "execution_count": null,
   "metadata": {},
   "outputs": [],
   "source": [
    "#\n",
    "# Autocorrelograma simple\n",
    "#\n",
    "functions.acf_pacf_plots(df_orig.yt_true)"
   ]
  }
 ],
 "metadata": {
  "kernelspec": {
   "display_name": ".venv",
   "language": "python",
   "name": "python3"
  },
  "language_info": {
   "codemirror_mode": {
    "name": "ipython",
    "version": 3
   },
   "file_extension": ".py",
   "mimetype": "text/x-python",
   "name": "python",
   "nbconvert_exporter": "python",
   "pygments_lexer": "ipython3",
   "version": "3.13.1"
  }
 },
 "nbformat": 4,
 "nbformat_minor": 2
}
